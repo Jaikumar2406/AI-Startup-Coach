{
 "cells": [
  {
   "cell_type": "code",
   "execution_count": 1,
   "id": "ac3e1149-d059-44ad-b064-2adbea306a80",
   "metadata": {},
   "outputs": [
    {
     "name": "stderr",
     "output_type": "stream",
     "text": [
      "C:\\Users\\ankus\\anaconda3\\envs\\genai_env\\lib\\site-packages\\IPython\\core\\interactiveshell.py:3579: LangChainDeprecationWarning: As of langchain-core 0.3.0, LangChain uses pydantic v2 internally. The langchain_core.pydantic_v1 module was a compatibility shim for pydantic v1, and should no longer be used. Please update the code to import from Pydantic directly.\n",
      "\n",
      "For example, replace imports like: `from langchain_core.pydantic_v1 import BaseModel`\n",
      "with: `from pydantic import BaseModel`\n",
      "or the v1 compatibility namespace if you are working in a code base that has not been fully upgraded to pydantic 2 yet. \tfrom pydantic.v1 import BaseModel\n",
      "\n",
      "  exec(code_obj, self.user_global_ns, self.user_ns)\n"
     ]
    }
   ],
   "source": [
    "import time\n",
    "import requests\n",
    "import pinecone\n",
    "from dotenv import load_dotenv\n",
    "from bs4 import BeautifulSoup\n",
    "import os\n",
    "\n",
    "\n",
    "from typing import Annotated, Literal, Sequence, Union, TypedDict\n",
    "from pinecone import Pinecone\n",
    "\n",
    "from langchain_core.prompts import (\n",
    "    ChatPromptTemplate,\n",
    "    MessagesPlaceholder,\n",
    "    PromptTemplate\n",
    ")\n",
    "from langchain_core.messages import (\n",
    "    SystemMessage,\n",
    "    HumanMessage,\n",
    "    AIMessage,\n",
    "    ToolMessage,\n",
    "    BaseMessage\n",
    ")\n",
    "from langchain_core.chat_history import BaseChatMessageHistory\n",
    "from langchain_core.runnables import RunnableWithMessageHistory\n",
    "from langchain_core.output_parsers import StrOutputParser\n",
    "from langchain_core.pydantic_v1 import BaseModel, Field\n",
    "from langchain_core.tools import tool\n",
    "\n",
    "\n",
    "from langchain_community.chat_message_histories import ChatMessageHistory\n",
    "from langchain_community.embeddings import HuggingFaceBgeEmbeddings\n",
    "\n",
    "from langchain.chains import (\n",
    "    create_history_aware_retriever,\n",
    "    create_retrieval_chain\n",
    ")\n",
    "from langchain.chains.combine_documents import create_stuff_documents_chain\n",
    "\n",
    "from langchain.tools.retriever import create_retriever_tool\n",
    "\n",
    "from langgraph.graph import START, END, StateGraph\n",
    "from langgraph.graph.message import add_messages\n",
    "from langgraph.prebuilt import ToolNode, tools_condition\n",
    "from langchain_groq import ChatGroq\n",
    "from langchain_pinecone import PineconeVectorStore\n",
    "\n",
    "from langchain_text_splitters import RecursiveCharacterTextSplitter\n",
    "from langchain import hub"
   ]
  },
  {
   "cell_type": "code",
   "execution_count": 2,
   "id": "06a9a4ff-c3b7-474a-ad59-fc6c80126827",
   "metadata": {},
   "outputs": [],
   "source": [
    "load_dotenv()\n",
    "pine_cone = os.getenv('pine_cone')\n",
    "groq = os.getenv('groq')\n",
    "hugging_face = os.getenv(\"hugging_face\")"
   ]
  },
  {
   "cell_type": "code",
   "execution_count": 3,
   "id": "db72e800-c6e4-4dd8-ba09-0069c2bf4510",
   "metadata": {},
   "outputs": [
    {
     "name": "stderr",
     "output_type": "stream",
     "text": [
      "C:\\Users\\ankus\\AppData\\Local\\Temp\\ipykernel_3736\\603423264.py:1: LangChainDeprecationWarning: The class `HuggingFaceBgeEmbeddings` was deprecated in LangChain 0.2.2 and will be removed in 1.0. An updated version of the class exists in the :class:`~langchain-huggingface package and should be used instead. To use it run `pip install -U :class:`~langchain-huggingface` and import as `from :class:`~langchain_huggingface import HuggingFaceEmbeddings``.\n",
      "  embedding = HuggingFaceBgeEmbeddings(model_name=\"BAAI/bge-base-en-v1.5\",\n"
     ]
    }
   ],
   "source": [
    "embedding = HuggingFaceBgeEmbeddings(model_name=\"BAAI/bge-base-en-v1.5\",\n",
    "                                    model_kwargs={\"token\" : hugging_face})"
   ]
  },
  {
   "cell_type": "code",
   "execution_count": 4,
   "id": "26013e4a-1639-4963-8232-d9c3b5a1a8fd",
   "metadata": {},
   "outputs": [],
   "source": [
    "llm = ChatGroq(model = \"llama-3.3-70b-versatile\" , api_key=groq , temperature=0.5)"
   ]
  },
  {
   "cell_type": "code",
   "execution_count": 5,
   "id": "cd403b83-49a7-433c-ad7b-d7706793a3f4",
   "metadata": {},
   "outputs": [
    {
     "data": {
      "text/plain": [
       "AIMessage(content=\"It's nice to meet you. Is there something I can help you with or would you like to chat?\", additional_kwargs={}, response_metadata={'token_usage': {'completion_tokens': 23, 'prompt_tokens': 36, 'total_tokens': 59, 'completion_time': 0.043352618, 'prompt_time': 0.001744048, 'queue_time': 0.057998501, 'total_time': 0.045096666}, 'model_name': 'llama-3.3-70b-versatile', 'system_fingerprint': 'fp_6507bcfb6f', 'finish_reason': 'stop', 'logprobs': None}, id='run--76aaa389-cb52-4427-867a-32a5dc8a708e-0', usage_metadata={'input_tokens': 36, 'output_tokens': 23, 'total_tokens': 59})"
      ]
     },
     "execution_count": 5,
     "metadata": {},
     "output_type": "execute_result"
    }
   ],
   "source": [
    "llm.invoke(\"hi\")"
   ]
  },
  {
   "cell_type": "code",
   "execution_count": 6,
   "id": "96d8af09-e412-4c35-9fa6-97eab5fbb66e",
   "metadata": {},
   "outputs": [],
   "source": [
    "index = \"teacher\"\n",
    "pc = Pinecone(api_key = \"pcsk_72ZQ1q_4eymSon7uwWDz2hkeWDScbcPBrC2ANEkU5CjTNgy1d3xDAUFFTsYwdYx6CcEpnE\")"
   ]
  },
  {
   "cell_type": "code",
   "execution_count": 7,
   "id": "dd81f606-2cb3-4985-8292-02f2649b943f",
   "metadata": {},
   "outputs": [],
   "source": [
    "index = pc.Index(index , host=os.getenv(\"host_bg\"))"
   ]
  },
  {
   "cell_type": "code",
   "execution_count": 8,
   "id": "8bab22c2-efe8-4c43-b007-55a1e0c0507d",
   "metadata": {},
   "outputs": [],
   "source": [
    "vector = PineconeVectorStore(index=index,\n",
    "    embedding=embedding,\n",
    "    text_key=\"page_content\")"
   ]
  },
  {
   "cell_type": "code",
   "execution_count": 9,
   "id": "5351f777-769e-4c18-b9cd-4d3a5c41e6ba",
   "metadata": {},
   "outputs": [],
   "source": [
    "retriever = vector.as_retriever()"
   ]
  },
  {
   "cell_type": "code",
   "execution_count": 10,
   "id": "efcb812b-b809-49a3-86b9-50c9d40f1005",
   "metadata": {},
   "outputs": [
    {
     "name": "stderr",
     "output_type": "stream",
     "text": [
      "C:\\Users\\ankus\\AppData\\Local\\Temp\\ipykernel_3736\\699289641.py:2: LangChainDeprecationWarning: The method `BaseRetriever.get_relevant_documents` was deprecated in langchain-core 0.1.46 and will be removed in 1.0. Use :meth:`~invoke` instead.\n",
      "  relevant_docs = retriever.get_relevant_documents(question)\n"
     ]
    },
    {
     "name": "stdout",
     "output_type": "stream",
     "text": [
      "se of a small business, in which it is routine to see the CEO, founder, president, and owner serving customers directly, one at a time. In a concierge MVP, this personalized service is not the product but a learning activity designed to test the leap-of-faith assumptions in the companys growth model. In fact, a common outcome of a concierge MVP is to invalidate the companys proposed growth model, making it clear that a dierent approach is needed. This can happen even if the initial MVP is protable for the company. Without a formal growth model, many companies get caught in the trap of being satised with a small protable business when a pivot change in course or strategy might lead to more signicant growth. The only way to know is to have tested the growth model systematically with real customers. PAY NO ATTENTION TO THE EIGHT PEOPLE BEHIND THE CURTAIN Meet Max Ventilla and Damon Horowitz, technologists with a vision to build a new type of search software designed to answer the kinds of\n",
      "ing special deals to consumers in more than 375 cities worldwide.2 A minimum viable product MVP helps entrepreneurs start the process of learning as quickly as possible.3 It is not necessarily the smallest product imaginable, though; it is simply the fastest way to get through the Build-Measure-Learn feedback loop with the minimum amount of effort. Contrary to traditional product development, which usually involves a long, thoughtful incubation period and strives for product perfection, the goal of the MVP is to begin the process of learning, not end it. Unlike a prototype or concept test, an MVP is designed not just to answer product design or technical questions. Its goal is to test fundamental business hypotheses. WHY FIRST PRODUCTS ARENT MEANT TO BE PERFECT At IMVU, when we were raising money from venture investors, we At IMVU, when we were raising money from venture investors, we were embarrassed. First of all, our product was still buggy and low- quality. Second, although we were\n",
      "stage-gate development model. If an MVP fails, teams are liable to give up hope and abandon the project altogether. But this is a solvable problem. FROM THE MVP TO INNOVATION ACCOUNTING The solution to this dilemma is a commitment to iteration. You have to commit to a locked-in agreementahead of timethat no matter what comes of testing the MVP, you will not give up hope. Successful entrepreneurs do not give up at the rst sign of trouble, nor do they persevere the plane right into the ground. Instead, they possess a unique combination of perseverance and exibility. The possess a unique combination of perseverance and exibility. The MVP is just the rst step on a journey of learning. Down that road after many iterationsyou may learn that some element of your product or strategy is awed and decide it is time to make a change, which I call a pivot, to a dierent method for achieving your vision. Startups are especially at risk when outside stakeholders and investors especially corporate CFOs\n",
      "atively, a startup might prefer to build separate MVPs that are aimed at getting feedback on one assumption at a time. Before building the prototype, the company might perform a smoke test with its marketing materials. This is an old direct marketing technique in which customers are given the opportunity to preorder a product that has not yet been built. A smoke test measures only one thing: whether customers are interested in trying a product. By itself, this is insu;cient to validate an entire growth model. Nonetheless, it can be very useful to get feedback on this assumption before committing more money and other resources to the product. These MVPs provide the first example of a learning milestone. An MVP allows a startup to ll in real baseline data in its growth modelconversion rates, sign-up and trial rates, customer lifetime value, and so onand this is valuable as the foundation for learning about customers and their reactions to a product even if that foundation begins with ext\n"
     ]
    }
   ],
   "source": [
    "question = \"What is MVP?\"\n",
    "relevant_docs = retriever.get_relevant_documents(question)\n",
    "for doc in relevant_docs:\n",
    "    print(doc.page_content)"
   ]
  },
  {
   "cell_type": "code",
   "execution_count": 11,
   "id": "5adb7fbd-0d2a-427f-8df0-6e6c91ce6b52",
   "metadata": {},
   "outputs": [],
   "source": [
    "from langchain.tools.retriever import create_retriever_tool\n",
    "from groq import Groq\n",
    "retriever_tool = create_retriever_tool(retriever ,\n",
    "                                       \"startup_coach_retriever\",\n",
    "                                       \"Search and return helpful information about startup coaching, pitching to VCs, and building MVPs. Use this only when the query is about startup building, fundraising, or entrepreneurship.\")\n",
    "\n",
    "                                       \n",
    "                                    "
   ]
  },
  {
   "cell_type": "code",
   "execution_count": 12,
   "id": "609955e3-8958-4402-b171-f74e51ddb762",
   "metadata": {},
   "outputs": [],
   "source": [
    "from selenium import webdriver\n",
    "URLS = [\"https://devfolio.co/hackathons\",]\n",
    "def get_page_text(url: str) -> str:\n",
    "    driver = webdriver.Chrome()\n",
    "    driver.get(url)\n",
    "    time.sleep(5)\n",
    "    soup = BeautifulSoup(driver.page_source, \"html.parser\")\n",
    "    driver.quit()\n",
    "\n",
    "    return ' '.join(\n",
    "        tag.get_text(strip=True)\n",
    "        for tag in soup.find_all(['p', 'li', 'h1', 'h2', 'h3'])\n",
    "    )"
   ]
  },
  {
   "cell_type": "code",
   "execution_count": 13,
   "id": "a05c9be2-5800-45d7-82e3-6a9485ae1af2",
   "metadata": {},
   "outputs": [],
   "source": [
    "from langchain.tools import tool\n",
    "@tool\n",
    "def ask_question(question: str) -> str:\n",
    "    \"\"\" this tool provide all the information about the hackathons like how to apply what are theam of the hackathon how can apply.\n",
    "    \"\"\"\n",
    "    combined_content = \"\"\n",
    "    for url in URLS:\n",
    "        print(f\"Scraping: {url}\")\n",
    "        try:\n",
    "            text = get_page_text(url)\n",
    "            combined_content += text + \"\\n\\n\"\n",
    "        except Exception as e:\n",
    "            print(f\"Error scraping {url}: {e}\")\n",
    "\n",
    "    context = combined_content[:12000]\n",
    "\n",
    "    prompt = f\"\"\"You are an assistant that answers questions using only the following website content.\n",
    "    provide information in this formare \n",
    "    hackathone name \n",
    "    eligiblity critria\n",
    "    and also how to apply for the hackathon\n",
    "Website Content:\n",
    "{context}\n",
    "\n",
    "Question:\n",
    "{question}\n",
    "\n",
    "Answer:\"\"\"\n",
    "\n",
    "    client = Groq(api_key=groq)\n",
    "    response = client.chat.completions.create(\n",
    "        model=\"llama3-8b-8192\",\n",
    "        messages=[\n",
    "            {\"role\": \"system\", \"content\": \"Answer only using the provided website content.\"},\n",
    "            {\"role\": \"user\", \"content\": prompt}\n",
    "        ],\n",
    "        temperature=0.2,\n",
    "    )\n",
    "\n",
    "    return response.choices[0].message.content"
   ]
  },
  {
   "cell_type": "code",
   "execution_count": 14,
   "id": "3596a453-56d5-4390-b5ac-6ae43b500d6d",
   "metadata": {},
   "outputs": [],
   "source": [
    "tools = [ask_question ,retriever_tool ]"
   ]
  },
  {
   "cell_type": "code",
   "execution_count": 15,
   "id": "f43d18e7-4f2d-4562-8398-4f0875877f8a",
   "metadata": {},
   "outputs": [],
   "source": [
    "retrieve=ToolNode(tools)"
   ]
  },
  {
   "cell_type": "code",
   "execution_count": 16,
   "id": "db56d16d-5178-40fe-a064-38105a125fb9",
   "metadata": {},
   "outputs": [],
   "source": [
    "class AgentState(TypedDict):\n",
    "    messages: Annotated[Sequence[BaseMessage], add_messages]"
   ]
  },
  {
   "cell_type": "code",
   "execution_count": 17,
   "id": "328fdd00-30ee-4716-ac46-8420699b9e19",
   "metadata": {},
   "outputs": [],
   "source": [
    "def ai_assistant(state: AgentState):\n",
    "    messages = state[\"messages\"]\n",
    "    question = messages[-1].content  \n",
    "\n",
    "    llm_with_tool = llm.bind_tools(tools)\n",
    "\n",
    "    prompt = PromptTemplate(\n",
    "        template=\"\"\"You are a helpful assistant.\n",
    "If the message is a greeting like 'hi', 'hello', or 'hey', just greet back nicely.\n",
    "If the question is about startups/business, call 'retriever_tool'.\n",
    "If it's about hackathons, call 'ask_question'.\n",
    "Otherwise say \"Sorry, I don't know the answer to that.\"\n",
    "If the user tells you their name, email , about there atsrtups, respond politely and remember it.\n",
    "take examples is user did'nt understand and your answer should be in 0 to 500 words according to questions.\n",
    "\n",
    "Question: {question}\"\"\",\n",
    "        input_variables=[\"question\"]\n",
    "    )\n",
    "    chain = prompt | llm_with_tool\n",
    "    response = chain.invoke({\"question\": question})\n",
    "    return {\"messages\": [response]}\n"
   ]
  },
  {
   "cell_type": "code",
   "execution_count": 18,
   "id": "683017a3-59ec-44a9-a2bb-6ca5f61abfd7",
   "metadata": {},
   "outputs": [],
   "source": [
    "from langchain_core.pydantic_v1 import BaseModel, Field\n",
    "class grade(BaseModel):\n",
    "    binary_score:str=Field(description=\"Relevance score 'yes' or 'no'\")"
   ]
  },
  {
   "cell_type": "code",
   "execution_count": 19,
   "id": "c24b9fc7-ad26-4742-9fd6-88f0a753467f",
   "metadata": {},
   "outputs": [],
   "source": [
    "def grade_documents(state:AgentState)->Literal[\"Output_Generator\", \"Query_Rewriter\"]:\n",
    "    llm_with_structure_op=llm.with_structured_output(grade)\n",
    "    \n",
    "    prompt=PromptTemplate(\n",
    "        template=\"\"\"You are a grader deciding if a document is relevant to a user’s question.\n",
    "                    Here is the document: {context}\n",
    "                    Here is the user’s question: {question}\n",
    "                    If the document talks about or contains information related to the user’s question, mark it as relevant. \n",
    "                    Give a 'yes' or 'no' answer to show if the document is relevant to the question.\"\"\",\n",
    "                    input_variables=[\"context\", \"question\"]\n",
    "                    )\n",
    "    chain = prompt | llm_with_structure_op\n",
    "    \n",
    "    messages = state[\"messages\"]\n",
    "    last_message = messages[-1]\n",
    "    question = messages[0].content\n",
    "    docs = last_message.content\n",
    "    scored_result = chain.invoke({\"question\": question, \"context\": docs})\n",
    "    score = scored_result.binary_score\n",
    "\n",
    "    if score == \"yes\":\n",
    "        print(\"---DECISION: DOCS RELEVANT---\")\n",
    "        return \"generator\" \n",
    "    else:\n",
    "        print(\"---DECISION: DOCS NOT RELEVANT---\")\n",
    "        return \"rewriter\" "
   ]
  },
  {
   "cell_type": "code",
   "execution_count": null,
   "id": "42144fde-0e3b-4ef8-9c8a-ee1b650ce7bf",
   "metadata": {},
   "outputs": [],
   "source": []
  },
  {
   "cell_type": "code",
   "execution_count": 20,
   "id": "9877baba-f0b9-47fb-94eb-ed16e3df38f5",
   "metadata": {},
   "outputs": [],
   "source": [
    "def generate(state:AgentState):\n",
    "    print(\"---GENERATE---\")\n",
    "    messages = state[\"messages\"]\n",
    "\n",
    "    question = messages[0].content\n",
    "    \n",
    "    last_message = messages[-1]\n",
    "    docs = last_message.content\n",
    "    \n",
    "    prompt = PromptTemplate(\n",
    "    template=\"You are a helpful assistant. Use the following context to answer the user's question.\\n\\nContext:\\n{context}\\n\\nQuestion: {question}\",\n",
    "    input_variables=[\"context\", \"question\"]\n",
    ")\n",
    "    \n",
    "    rag_chain = prompt | llm\n",
    "\n",
    "    response = rag_chain.invoke({\"context\": docs, \"question\": question})\n",
    "    return {\"messages\": [response]}"
   ]
  },
  {
   "cell_type": "code",
   "execution_count": 21,
   "id": "12d06706-e8c0-4431-87e8-e27f0eca34c4",
   "metadata": {},
   "outputs": [],
   "source": [
    "from langchain_core.messages import  HumanMessage\n",
    "def rewrite(state:AgentState):\n",
    "    print(\"---TRANSFORM QUERY---\")\n",
    "    messages = state[\"messages\"]\n",
    "    question = messages[0].content\n",
    "    \n",
    "    message = [HumanMessage(content=f\"\"\"Look at the input and try to reason about the underlying semantic intent or meaning. \n",
    "                    Here is the initial question: {question} \n",
    "                    Formulate an improved question: \"\"\")\n",
    "       ]\n",
    "    response = llm.invoke(message)\n",
    "    return {\"messages\": [response]}"
   ]
  },
  {
   "cell_type": "code",
   "execution_count": 22,
   "id": "89bde876-a181-4ff6-8800-9b4cd2553862",
   "metadata": {},
   "outputs": [
    {
     "data": {
      "text/plain": [
       "<langgraph.graph.state.StateGraph at 0x23b024f5900>"
      ]
     },
     "execution_count": 22,
     "metadata": {},
     "output_type": "execute_result"
    }
   ],
   "source": [
    "workflow=StateGraph(AgentState)\n",
    "workflow.add_node(\"My_Ai_Assistant\",ai_assistant)\n",
    "workflow.add_node(\"Vector_Retriever\", retrieve) \n",
    "workflow.add_node(\"Output_Generator\", generate)\n",
    "workflow.add_node(\"Query_Rewriter\", rewrite)"
   ]
  },
  {
   "cell_type": "code",
   "execution_count": 23,
   "id": "347a067b-0de2-42e7-8350-3f92858b28b1",
   "metadata": {},
   "outputs": [
    {
     "data": {
      "text/plain": [
       "<langgraph.graph.state.StateGraph at 0x23b024f5900>"
      ]
     },
     "execution_count": 23,
     "metadata": {},
     "output_type": "execute_result"
    }
   ],
   "source": [
    "workflow.add_edge(START,\"My_Ai_Assistant\")"
   ]
  },
  {
   "cell_type": "code",
   "execution_count": 24,
   "id": "1fb358af-9186-48df-b569-af031b533083",
   "metadata": {},
   "outputs": [
    {
     "data": {
      "text/plain": [
       "<langgraph.graph.state.StateGraph at 0x23b024f5900>"
      ]
     },
     "execution_count": 24,
     "metadata": {},
     "output_type": "execute_result"
    }
   ],
   "source": [
    "workflow.add_conditional_edges(\"My_Ai_Assistant\",\n",
    "                               \n",
    "                            tools_condition,\n",
    "                            {\"tools\": \"Vector_Retriever\",\n",
    "                                END: END,})"
   ]
  },
  {
   "cell_type": "code",
   "execution_count": 25,
   "id": "83991eb0-df5f-471f-96eb-0ba1d1d4bf58",
   "metadata": {},
   "outputs": [
    {
     "data": {
      "text/plain": [
       "<langgraph.graph.state.StateGraph at 0x23b024f5900>"
      ]
     },
     "execution_count": 25,
     "metadata": {},
     "output_type": "execute_result"
    }
   ],
   "source": [
    "workflow.add_conditional_edges(\"Vector_Retriever\",\n",
    "                            grade_documents,\n",
    "                            {\"generator\": \"Output_Generator\",\n",
    "                            \"rewriter\": \"Query_Rewriter\",\n",
    "                            }\n",
    "                            )"
   ]
  },
  {
   "cell_type": "code",
   "execution_count": 26,
   "id": "80b9b9be-a88a-41b2-ac52-7e81fa6a0f14",
   "metadata": {},
   "outputs": [
    {
     "data": {
      "text/plain": [
       "<langgraph.graph.state.StateGraph at 0x23b024f5900>"
      ]
     },
     "execution_count": 26,
     "metadata": {},
     "output_type": "execute_result"
    }
   ],
   "source": [
    "workflow.add_edge(\"Output_Generator\", END)"
   ]
  },
  {
   "cell_type": "code",
   "execution_count": 27,
   "id": "30912e64-6a37-4ede-9311-32ef6fc76339",
   "metadata": {},
   "outputs": [
    {
     "data": {
      "text/plain": [
       "<langgraph.graph.state.StateGraph at 0x23b024f5900>"
      ]
     },
     "execution_count": 27,
     "metadata": {},
     "output_type": "execute_result"
    }
   ],
   "source": [
    "workflow.add_edge(\"Query_Rewriter\", \"My_Ai_Assistant\")"
   ]
  },
  {
   "cell_type": "code",
   "execution_count": 28,
   "id": "35ac1449-a237-412f-a487-5a9d9fd71e81",
   "metadata": {},
   "outputs": [],
   "source": [
    "app = workflow.compile()"
   ]
  },
  {
   "cell_type": "code",
   "execution_count": 29,
   "id": "d7b48a02-ec26-49cf-88a1-dc698565d68e",
   "metadata": {},
   "outputs": [
    {
     "data": {
      "image/png": "[encoded data removed]",
      "text/plain": [
       "<IPython.core.display.Image object>"
      ]
     },
     "metadata": {},
     "output_type": "display_data"
    }
   ],
   "source": [
    "from IPython.display import Image, display\n",
    "\n",
    "try:\n",
    "    display(Image(app.get_graph(xray=True).draw_mermaid_png()))\n",
    "except Exception:\n",
    "    # This requires some extra dependencies and is optional\n",
    "    pass"
   ]
  },
  {
   "cell_type": "code",
   "execution_count": 31,
   "id": "5ba767f2-578f-4676-b873-fe20c36154b9",
   "metadata": {},
   "outputs": [
    {
     "name": "stdout",
     "output_type": "stream",
     "text": [
      "Scraping: https://devfolio.co/hackathons\n",
      "---DECISION: DOCS RELEVANT---\n",
      "---GENERATE---\n",
      "{'messages': [HumanMessage(content='is any hackthon live?', additional_kwargs={}, response_metadata={}, id='a3b375ea-40a6-4981-ad5d-07d19bcc122b'), AIMessage(content='', additional_kwargs={'tool_calls': [{'id': '07d7abvd2', 'function': {'arguments': '{\"question\":\"is any hackthon live\"}', 'name': 'ask_question'}, 'type': 'function'}]}, response_metadata={'token_usage': {'completion_tokens': 19, 'prompt_tokens': 502, 'total_tokens': 521, 'completion_time': 0.058144907, 'prompt_time': 0.032285397, 'queue_time': 0.05757976, 'total_time': 0.090430304}, 'model_name': 'llama-3.3-70b-versatile', 'system_fingerprint': 'fp_9a8b91ba77', 'finish_reason': 'tool_calls', 'logprobs': None}, id='run--f906d003-72d9-4c14-863b-6a31b268ad02-0', tool_calls=[{'name': 'ask_question', 'args': {'question': 'is any hackthon live'}, 'id': '07d7abvd2', 'type': 'tool_call'}], usage_metadata={'input_tokens': 502, 'output_tokens': 19, 'total_tokens': 521}), ToolMessage(content='Yes, there is one hackathon that is live:\\n\\n* Onchain Summer Awards Hackathon Theme Blockchain +250participating Online Open Live', name='ask_question', id='62db7c08-478a-40b0-abd0-d55af391ca3c', tool_call_id='07d7abvd2'), AIMessage(content='Yes, there is one hackathon that is currently live: the Onchain Summer Awards Hackathon with a theme of Blockchain and over 250 participants, which is online and open.', additional_kwargs={}, response_metadata={'token_usage': {'completion_tokens': 37, 'prompt_tokens': 91, 'total_tokens': 128, 'completion_time': 0.137762466, 'prompt_time': 0.004978616, 'queue_time': 0.057232151, 'total_time': 0.142741082}, 'model_name': 'llama-3.3-70b-versatile', 'system_fingerprint': 'fp_9a8b91ba77', 'finish_reason': 'stop', 'logprobs': None}, id='run--018a309b-d736-4a3d-a413-e396ed431b21-0', usage_metadata={'input_tokens': 91, 'output_tokens': 37, 'total_tokens': 128})]}\n"
     ]
    }
   ],
   "source": [
    "result = app.invoke({\n",
    "    \"messages\": [HumanMessage(content=\"is any hackthon live?\")]\n",
    "})\n",
    "print(result)"
   ]
  },
  {
   "cell_type": "code",
   "execution_count": 32,
   "id": "df47f3e8-59f4-4ed1-973f-839a77741dd0",
   "metadata": {},
   "outputs": [
    {
     "name": "stdout",
     "output_type": "stream",
     "text": [
      "                                  +-----------+                          \n",
      "                                  | __start__ |                          \n",
      "                                  +-----------+                          \n",
      "                                        *                                \n",
      "                                        *                                \n",
      "                                        *                                \n",
      "                               +-----------------+                       \n",
      "                               | My_Ai_Assistant |                       \n",
      "                            ...+-----------------+...                    \n",
      "                       .....            *            .....               \n",
      "                  .....                 *                 .....          \n",
      "               ...                      *                      .....     \n",
      "+------------------+                    *                           ...  \n",
      "| Vector_Retriever |                    *                             .  \n",
      "+------------------+...                 *                             .  \n",
      "          .            .....            *                             .  \n",
      "          .                 .....       *                             .  \n",
      "          .                      ...    *                             .  \n",
      "+------------------+            +----------------+                  ...  \n",
      "| Output_Generator |            | Query_Rewriter |             .....     \n",
      "+------------------+***         +----------------+        .....          \n",
      "                       *****                         .....               \n",
      "                            *****               .....                    \n",
      "                                 ***         ...                         \n",
      "                                   +---------+                           \n",
      "                                   | __end__ |                           \n",
      "                                   +---------+                           \n",
      "None\n"
     ]
    }
   ],
   "source": [
    "print(app.get_graph().print_ascii())"
   ]
  },
  {
   "cell_type": "code",
   "execution_count": 44,
   "id": "4cc37819-eb54-4b79-a029-9768bf5ce4f4",
   "metadata": {},
   "outputs": [
    {
     "name": "stdout",
     "output_type": "stream",
     "text": [
      "Hi! I am Assistant version 1.0. I'm here to help you regarding trips or hackathons.\n"
     ]
    },
    {
     "name": "stdin",
     "output_type": "stream",
     "text": [
      "You:  hii\n"
     ]
    },
    {
     "name": "stdout",
     "output_type": "stream",
     "text": [
      "Assistant: Hello! It's nice to meet you. Is there something I can help you with or would you like to chat?\n"
     ]
    },
    {
     "name": "stdin",
     "output_type": "stream",
     "text": [
      "You:  how i grow my startup\n"
     ]
    },
    {
     "name": "stdout",
     "output_type": "stream",
     "text": [
      "---DECISION: DOCS RELEVANT---\n",
      "---GENERATE---\n",
      "Assistant: To grow your startup, you can consider two main approaches: horizontal growth and vertical growth. \n",
      "\n",
      "Horizontal growth involves expanding your business by creating different products or services to appeal to a wider range of customers. This can help you reach new markets and increase your revenue.\n",
      "\n",
      "Vertical growth, on the other hand, involves deepening your engagement with your existing customers by offering more levels of service or creating more value for them. This can help you increase customer loyalty and retention, and ultimately drive more revenue.\n",
      "\n",
      "Some key points to keep in mind when growing your startup include:\n",
      "\n",
      "1. **Increasing income in an existing business is usually easier than starting from scratch**: You've already established a foundation, so building on that can be more straightforward.\n",
      "2. **Making careful choices can help you grow without dramatically increasing your workload**: Be strategic about where you focus your efforts to maximize impact.\n",
      "3. **Past experiences and lessons learned can contribute to future successes**: Draw on your own experiences, as well as those of other founders, to inform your growth strategy.\n",
      "4. **Disciplined execution and a culture of continuous innovation are key**: Stay focused on delivering value to your customers and continually look for new ways to improve and grow.\n",
      "\n",
      "Ultimately, the best approach will depend on your specific business and goals. Consider what will work best for your startup and develop a strategy that plays to your strengths.\n"
     ]
    },
    {
     "name": "stdin",
     "output_type": "stream",
     "text": [
      "You:  ok thankyu\n"
     ]
    },
    {
     "name": "stdout",
     "output_type": "stream",
     "text": [
      "Assistant: You're welcome. Is there anything else I can help you with?\n"
     ]
    },
    {
     "name": "stdin",
     "output_type": "stream",
     "text": [
      "You:  exit\n"
     ]
    },
    {
     "name": "stdout",
     "output_type": "stream",
     "text": [
      "Assistant: Thank you for using the Assistant. Goodbye!\n"
     ]
    }
   ],
   "source": [
    "from langchain_core.messages import HumanMessage, AIMessage\n",
    "\n",
    "print(\"Hi! I am Assistant version 1.0. I'm here to help you regarding trips or hackathons.\")\n",
    "\n",
    "while True:\n",
    "    user_input = input(\"You: \").strip()\n",
    "\n",
    "    if user_input.lower() == \"exit\":\n",
    "        print(\"Assistant: Thank you for using the Assistant. Goodbye!\")\n",
    "        break\n",
    "\n",
    "    try:\n",
    "        result = app.invoke({\n",
    "            \"messages\": [HumanMessage(content=user_input)]\n",
    "        })\n",
    "\n",
    "        last_message = result[\"messages\"][-1]\n",
    "\n",
    "        if isinstance(last_message, AIMessage) and last_message.content:\n",
    "            print(\"Assistant:\", last_message.content)\n",
    "        else:\n",
    "            print(\"Assistant: I'm processing your request...\")\n",
    "\n",
    "    except Exception as e:\n",
    "        print(f\"Assistant: Sorry, I encountered an error: {str(e)}\")\n"
   ]
  },
  {
   "cell_type": "code",
   "execution_count": null,
   "id": "99092e22-925e-446d-a3c8-099504636bf7",
   "metadata": {},
   "outputs": [],
   "source": []
  }
 ],
 "metadata": {
  "kernelspec": {
   "display_name": "genai_env",
   "language": "python",
   "name": "genai_env"
  },
  "language_info": {
   "codemirror_mode": {
    "name": "ipython",
    "version": 3
   },
   "file_extension": ".py",
   "mimetype": "text/x-python",
   "name": "python",
   "nbconvert_exporter": "python",
   "pygments_lexer": "ipython3",
   "version": "3.10.18"
  }
 },
 "nbformat": 4,
 "nbformat_minor": 5
}
